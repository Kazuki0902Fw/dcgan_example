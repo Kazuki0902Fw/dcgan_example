{
 "cells": [
  {
   "cell_type": "code",
   "execution_count": 95,
   "metadata": {},
   "outputs": [],
   "source": [
    "import keras\n",
    "from keras.models import Sequential\n",
    "from keras.layers import Dense, Activation, BatchNormalization, Reshape, Flatten, Dropout\n",
    "from keras.layers.convolutional import UpSampling2D, Conv2D\n",
    "\n",
    "from keras.optimizers import SGD, Adam\n",
    "from keras.datasets import mnist\n",
    "from keras.regularizers import l1_l2"
   ]
  },
  {
   "cell_type": "code",
   "execution_count": 96,
   "metadata": {
    "collapsed": true
   },
   "outputs": [],
   "source": [
    "import os\n",
    "import numpy as np\n",
    "from tqdm import tqdm\n",
    "import matplotlib.pyplot as plt"
   ]
  },
  {
   "cell_type": "code",
   "execution_count": 110,
   "metadata": {
    "collapsed": true
   },
   "outputs": [],
   "source": [
    "def plot_generated(noise, generator_model, examples=16, plot_dim=(4,4), size=(7,7), epoch=None):\n",
    "    generated_images = generator_model.predict(noise)\n",
    "    \n",
    "    fig = plt.figure(figsize=size)\n",
    "    for i in range(examples):\n",
    "        plt.subplot(plot_dim[0], plot_dim[1], i+1)\n",
    "        img = generated_images[i, :]\n",
    "        img = img.reshape((28, 28))\n",
    "        plt.tight_layout()\n",
    "        plt.imshow(img, cmap='gray')\n",
    "        plt.axis('off')\n",
    "    plt.subplots_adjust(wspace=0.2, hspace=0.2)\n",
    "    plt.savefig(os.path.join(\"generated_figures\", str(epoch) + \".png\"))\n",
    "    plt.close()    "
   ]
  },
  {
   "cell_type": "code",
   "execution_count": 111,
   "metadata": {
    "collapsed": true
   },
   "outputs": [],
   "source": [
    "def plot_metrics(metrics, epoch=None):\n",
    "    plt.figure(figsize=(10,8))\n",
    "    plt.plot(metrics['d'], label='discriminative loss', color='b')\n",
    "    plt.legend()\n",
    "    plt.savefig(os.path.join(\"metrics\", \"dloss\" + str(epoch) + \".png\"))\n",
    "    plt.close()\n",
    "    \n",
    "    plt.figure(figsize=(10,8))\n",
    "    plt.plot(metrics[\"g\"], label=\"generative loss\", color=\"r\")\n",
    "    plt.legend()\n",
    "    plt.savefig(os.path.join(\"metrics\", \"g_loss\" + str(epoch) + \".png\"))\n",
    "    plt.close()"
   ]
  },
  {
   "cell_type": "code",
   "execution_count": 112,
   "metadata": {
    "collapsed": true
   },
   "outputs": [],
   "source": [
    "def Generator():\n",
    "    Gen = Sequential()\n",
    "    Gen.add(Dense(1024, input_shape=(100,)))\n",
    "    Gen.add(BatchNormalization())\n",
    "    Gen.add(Activation('relu'))\n",
    "    Gen.add(Dense(units=128*7*7))\n",
    "    Gen.add(BatchNormalization())\n",
    "    Gen.add(Activation('relu'))\n",
    "    Gen.add(Reshape((7,7,128))) # input_shapeはいるのかいらないのか?\n",
    "    Gen.add(UpSampling2D((2,2)))\n",
    "    Gen.add(Conv2D(64, 5, padding='same'))\n",
    "    Gen.add(BatchNormalization())\n",
    "    Gen.add(Activation('relu'))\n",
    "    Gen.add(UpSampling2D((2,2)))\n",
    "    Gen.add(Conv2D(1, 5, padding='same'))\n",
    "    Gen.add(Activation('tanh'))\n",
    "    return Gen"
   ]
  },
  {
   "cell_type": "code",
   "execution_count": 113,
   "metadata": {
    "collapsed": true
   },
   "outputs": [],
   "source": [
    "def Discriminator():\n",
    "    act = keras.layers.advanced_activations.LeakyReLU(alpha=0.2)\n",
    "    Dis = Sequential()\n",
    "    Dis.add(Conv2D(64, 5, strides=(2,2), padding='same', input_shape=(28,28,1)))\n",
    "    Dis.add(act)\n",
    "    Dis.add(Conv2D(128, 5, strides=(2,2), padding='same'))\n",
    "    Dis.add(act)\n",
    "    Dis.add(Flatten())\n",
    "    Dis.add(Dense(256))\n",
    "    Dis.add(act)\n",
    "    Dis.add(Dropout(0.5))\n",
    "    Dis.add(Dense(1))\n",
    "    Dis.add(Activation('sigmoid'))\n",
    "    discriminator_optimizer = Adam(lr=1e-5, beta_1=0.1)\n",
    "    Dis.compile(loss='binary_crossentropy', optimizer=discriminator_optimizer)\n",
    "    return Dis"
   ]
  },
  {
   "cell_type": "code",
   "execution_count": 114,
   "metadata": {
    "collapsed": true
   },
   "outputs": [],
   "source": [
    "def Generative_Adversarial_Network(generator_model, discriminator_model):\n",
    "    GAN = Sequential()\n",
    "    GAN.add(generator_model)\n",
    "    discriminator_model.trainable=False\n",
    "    GAN.add(discriminator_model)\n",
    "    gan_optimizer = Adam(lr=1e-5, beta_1=0.1)\n",
    "    GAN.compile(loss='binary_crossentropy', optimizer=gan_optimizer)\n",
    "    return GAN"
   ]
  },
  {
   "cell_type": "code",
   "execution_count": 115,
   "metadata": {},
   "outputs": [
    {
     "name": "stdout",
     "output_type": "stream",
     "text": [
      "X_train shape (60000, 28, 28, 1)\n",
      "60000 train samples\n",
      "10000 test samples\n"
     ]
    }
   ],
   "source": [
    "(X_train, y_train), (X_test, y_test) = mnist.load_data()\n",
    "#print(X_train.shape)\n",
    "X_train = X_train.reshape(X_train.shape[0], 28, 28, 1)\n",
    "X_test = X_test.reshape(X_test.shape[0], 28, 28, 1)\n",
    "X_train.astype('float32')\n",
    "X_test.astype('float32')\n",
    "X_train=X_train /255\n",
    "y_train=X_test /255\n",
    "\n",
    "print(\"X_train shape\", X_train.shape)\n",
    "print(X_train.shape[0], \"train samples\")\n",
    "print(X_test.shape[0], \"test samples\")"
   ]
  },
  {
   "cell_type": "code",
   "execution_count": 119,
   "metadata": {},
   "outputs": [],
   "source": [
    "def train(z_input_size, generator_model, discriminator_model, gan_model, loss_dict, X_train, generated_figures=None, z_group=None, z_plot_freq=10, epoch=100, plot_freq=10, batch=100):\n",
    "    with tqdm(total=epoch) as pbar:\n",
    "        for e in range(epoch):\n",
    "            pbar.update(1)\n",
    "            \n",
    "            noise = np.random.uniform(0, 1, size=[batch, z_input_size])\n",
    "            generated_images = generator_model.predict_on_batch(noise)\n",
    "            \n",
    "            rand_train_index = np.random.randint(0, X_train.shape[0], size=batch)\n",
    "            image_batch = X_train[rand_train_index, :]\n",
    "            \n",
    "            X = np.vstack((image_batch, generated_images))\n",
    "            y = np.zeros(int(2*batch))\n",
    "            y[batch:] = 1 # つまりこれはgenerated_imagesのほうがlabel 1　になるということ\n",
    "            y = y.astype(int)\n",
    "            \n",
    "            discriminator_model.trainable = True\n",
    "            d_loss = discriminator_model.train_on_batch(X, y)\n",
    "            discriminator_model.trainable = False\n",
    "            \n",
    "            noise = np.random.uniform(0, 1, size=[batch, z_input_size])\n",
    "            y = np.zeros(batch)\n",
    "            y = y.astype(int)\n",
    "            g_loss = gan_model.train_on_batch(x=noise, y=y)\n",
    "            \n",
    "            loss_dict['d'].append(d_loss)\n",
    "            loss_dict['g'].append(g_loss)\n",
    "            \n",
    "            if e%plot_freq == plot_freq-1:\n",
    "                plot_metrics(loss_dict, int(e/plot_freq))\n",
    "                generator_model.save('./model/gen_model_' +  str(int(e/z_plot_freq)) + '.h5')\n",
    "                generator_model.save_weights('./model/gen_model_weights_' +  str(int(e/z_plot_freq)) + '.h5')\n",
    "                gan_model.save('./model/gan_model_' + str(int(e/z_plot_freq)) + '.h5')\n",
    "                gan_model.save_weights('./model/gan_model_weights_' +  str(int(e/z_plot_freq)) + '.h5')                \n",
    "\n",
    "            if e < epoch:\n",
    "                if e%z_plot_freq == z_plot_freq-1:\n",
    "                    plot_generated(z_group, generator_model=generator_model, epoch=int(e/z_plot_freq))\n",
    "                    #generated_figures.append(fig)"
   ]
  },
  {
   "cell_type": "code",
   "execution_count": null,
   "metadata": {},
   "outputs": [],
   "source": [
    "Gen = Generator()\n",
    "Dis = Discriminator()\n",
    "GAN = Generative_Adversarial_Network(Gen, Dis)\n",
    "\n",
    "gan_losses = {'d': [], 'g': []}\n",
    "epoch =100\n",
    "batch = 64\n",
    "z_plot_freq = 10\n",
    "z_plot_freq = 10\n",
    "z_input_vector = 100\n",
    "examples = 16\n",
    "\n",
    "z_group_matrix = np.random.uniform(0,1,examples*z_input_vector)\n",
    "z_group_matrix = z_group_matrix.reshape([examples, z_input_vector])\n",
    "\n",
    "generated_figures = []"
   ]
  },
  {
   "cell_type": "code",
   "execution_count": null,
   "metadata": {},
   "outputs": [
    {
     "name": "stderr",
     "output_type": "stream",
     "text": [
      "100%|██████████| 100/100 [06:10<00:00,  3.78s/it]"
     ]
    }
   ],
   "source": [
    "train(100, Gen, Dis, GAN, loss_dict=gan_losses, X_train=X_train, \n",
    "           generated_figures=generated_figures, z_group=z_group_matrix)"
   ]
  },
  {
   "cell_type": "code",
   "execution_count": null,
   "metadata": {
    "collapsed": true
   },
   "outputs": [],
   "source": []
  },
  {
   "cell_type": "code",
   "execution_count": null,
   "metadata": {
    "collapsed": true
   },
   "outputs": [],
   "source": []
  }
 ],
 "metadata": {
  "kernelspec": {
   "display_name": "Python 3",
   "language": "python",
   "name": "python3"
  },
  "language_info": {
   "codemirror_mode": {
    "name": "ipython",
    "version": 3
   },
   "file_extension": ".py",
   "mimetype": "text/x-python",
   "name": "python",
   "nbconvert_exporter": "python",
   "pygments_lexer": "ipython3",
   "version": "3.6.2"
  }
 },
 "nbformat": 4,
 "nbformat_minor": 2
}
